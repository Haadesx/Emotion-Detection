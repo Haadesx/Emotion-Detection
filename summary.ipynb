# -*- coding: utf-8 -*-
"""
Created on Thu Apr 11 11:47:42 2024

@author: conta
"""

import tensorflow as tf

# Load the trained model
model = tf.keras.models.load_model("D:\SEM 6\mini project\Models\gpu_trained_model_v4.keras")

# Print the summary of the model
model.summary()
